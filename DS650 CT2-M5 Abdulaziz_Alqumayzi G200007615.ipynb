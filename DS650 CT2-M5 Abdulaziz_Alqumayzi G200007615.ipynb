{
 "cells": [
  {
   "cell_type": "code",
   "execution_count": 51,
   "id": "5fcc7551",
   "metadata": {},
   "outputs": [],
   "source": [
    "#!pip install transformers\n",
    "#!pip install nltk\n",
    "#!pip install sklearn\n",
    "#!pip install seaborn\n",
    "#nltk.download('stopwords')\n",
    "#nltk.download('punkt')\n",
    "#nltk.download('wordnet')\n",
    "#nltk.download('omw-1.4')"
   ]
  },
  {
   "cell_type": "code",
   "execution_count": 50,
   "id": "f699bd81",
   "metadata": {},
   "outputs": [],
   "source": [
    "import seaborn as sns\n",
    "\n",
    "#Libraries for text preprocessing\n",
    "import re\n",
    "import nltk\n",
    "from nltk.corpus import stopwords\n",
    "from nltk.tokenize import word_tokenize \n",
    "from nltk.stem.porter import PorterStemmer\n",
    "from nltk.stem import WordNetLemmatizer\n",
    "from tensorflow.keras.preprocessing.text import Tokenizer\n",
    "from tensorflow.keras.preprocessing.sequence import pad_sequences\n",
    "from sklearn.model_selection import train_test_split\n",
    "\n",
    "#Importing Tensorflow for model creation\n",
    "import tensorflow as tf\n",
    "\n",
    "#Libraries that check the accuracy of the model over test set\n",
    "from sklearn.metrics import confusion_matrix, accuracy_score, precision_score, recall_score"
   ]
  },
  {
   "cell_type": "code",
   "execution_count": 34,
   "id": "8297e91c",
   "metadata": {},
   "outputs": [],
   "source": [
    "df = pd.read_csv('train.csv')"
   ]
  },
  {
   "cell_type": "code",
   "execution_count": 35,
   "id": "d7550d11",
   "metadata": {},
   "outputs": [
    {
     "name": "stdout",
     "output_type": "stream",
     "text": [
      "<class 'pandas.core.frame.DataFrame'>\n",
      "RangeIndex: 20800 entries, 0 to 20799\n",
      "Data columns (total 5 columns):\n",
      " #   Column  Non-Null Count  Dtype \n",
      "---  ------  --------------  ----- \n",
      " 0   id      20800 non-null  int64 \n",
      " 1   title   20242 non-null  object\n",
      " 2   author  18843 non-null  object\n",
      " 3   text    20761 non-null  object\n",
      " 4   label   20800 non-null  int64 \n",
      "dtypes: int64(2), object(3)\n",
      "memory usage: 812.6+ KB\n"
     ]
    }
   ],
   "source": [
    "df.info()"
   ]
  },
  {
   "cell_type": "code",
   "execution_count": 36,
   "id": "d339cad1",
   "metadata": {},
   "outputs": [],
   "source": [
    "# Combining the title of the news with it's text\n",
    "\n",
    "df[\"text\"] = df[\"text\"]+\" \"+df[\"title\"]"
   ]
  },
  {
   "cell_type": "code",
   "execution_count": 37,
   "id": "f1d6c2a9",
   "metadata": {},
   "outputs": [],
   "source": [
    "# Drop the unnecessary columns, title(already added to the text column) and author\n",
    "\n",
    "df.drop([\"title\", \"author\"], axis = 1, inplace = True)"
   ]
  },
  {
   "cell_type": "code",
   "execution_count": 15,
   "id": "f10954d7",
   "metadata": {},
   "outputs": [],
   "source": [
    "#Defining functions to clean text data\n",
    "\n",
    "def remove_punctuation(text):  #Removing any kind of punctuation present in the data\n",
    "    return re.sub(r'[^\\w\\s]','', str(text))\n",
    "                  \n",
    "def remove_urls(text):  #Removing urls from the data\n",
    "    return re.sub(r\"http\\S+\", \" \", str(text))\n",
    "                  \n",
    "def remove_stopwords(text):  #Removing stopwords(eg. this, that, am, be etc)\n",
    "    stop = stopwords.words(\"english\")\n",
    "    final_text = []\n",
    "    for i in str(text).split():\n",
    "        if i.strip() not in stop:\n",
    "            final_text.append(i.strip())\n",
    "    return \" \".join(final_text)\n",
    "                  \n",
    "def tokenize(text):  \n",
    "    tokens = re.split('\\W+',text) #W+ means that either a word character (A-Z) or a dash(-) can go there.\n",
    "    return tokens\n",
    "\n",
    "def tokenize_words(text):  #Converting all the text to lower case\n",
    "    return word_tokenize(text.lower())\n",
    "\n",
    "                                  \n",
    "def stemming(text):  #Converting the words into their stem form\n",
    "    porter_stemmer = PorterStemmer()\n",
    "    return porter_stemmer.stem(str(text))\n",
    "                  \n",
    "def lemmatization(text):  #Applying Lemaatization i.e., converting words into their lemma\n",
    "    wordnet_lemmatizer = WordNetLemmatizer()\n",
    "    return wordnet_lemmatizer.lemmatize(str(text))"
   ]
  },
  {
   "cell_type": "code",
   "execution_count": 39,
   "id": "04549a94",
   "metadata": {},
   "outputs": [],
   "source": [
    "def clean_text(text):\n",
    "    text = remove_punctuation(text)\n",
    "    text = remove_urls(text)\n",
    "    text = remove_stopwords(text)\n",
    "    text = tokenize_words(text)\n",
    "    text = stemming(text)\n",
    "    return lemmatization(text)\n",
    "\n",
    "df['text'] = df['text'].apply(lambda x: clean_text(x))"
   ]
  },
  {
   "cell_type": "code",
   "execution_count": 40,
   "id": "14176194",
   "metadata": {},
   "outputs": [],
   "source": [
    "# Splitting the dataset into train and test set\n",
    "\n",
    "x_train, x_test, y_train, y_test = train_test_split(df[\"text\"], df[\"label\"], test_size = 0.25, random_state = 11)"
   ]
  },
  {
   "cell_type": "code",
   "execution_count": 41,
   "id": "7317d282",
   "metadata": {},
   "outputs": [],
   "source": [
    "#Tokenize the words into vectors because we can only give numerical data as input to the model\n",
    "\n",
    "max_vocab = 25000\n",
    "tokenizer = Tokenizer(num_words = max_vocab)\n",
    "tokenizer.fit_on_texts(x_train)\n",
    "\n",
    "x_train = tokenizer.texts_to_sequences(x_train)\n",
    "x_test = tokenizer.texts_to_sequences(x_test)"
   ]
  },
  {
   "cell_type": "code",
   "execution_count": 42,
   "id": "b1b54565",
   "metadata": {},
   "outputs": [],
   "source": [
    "#Padding is applied so that we get the same length of input for each article\n",
    "\n",
    "x_train = pad_sequences(x_train, padding = \"post\", maxlen = 256)\n",
    "x_test = pad_sequences(x_test, padding = \"post\", maxlen = 256)"
   ]
  },
  {
   "cell_type": "code",
   "execution_count": 43,
   "id": "d8d16177",
   "metadata": {},
   "outputs": [
    {
     "name": "stdout",
     "output_type": "stream",
     "text": [
      "Model: \"sequential_1\"\n",
      "_________________________________________________________________\n",
      "Layer (type)                 Output Shape              Param #   \n",
      "=================================================================\n",
      "embedding_1 (Embedding)      (None, None, 128)         3200000   \n",
      "_________________________________________________________________\n",
      "bidirectional_2 (Bidirection (None, None, 128)         98816     \n",
      "_________________________________________________________________\n",
      "bidirectional_3 (Bidirection (None, 32)                18560     \n",
      "_________________________________________________________________\n",
      "dense_2 (Dense)              (None, 64)                2112      \n",
      "_________________________________________________________________\n",
      "dropout_1 (Dropout)          (None, 64)                0         \n",
      "_________________________________________________________________\n",
      "dense_3 (Dense)              (None, 1)                 65        \n",
      "=================================================================\n",
      "Total params: 3,319,553\n",
      "Trainable params: 3,319,553\n",
      "Non-trainable params: 0\n",
      "_________________________________________________________________\n"
     ]
    }
   ],
   "source": [
    "# Creating the RNN model\n",
    "\n",
    "model = tf.keras.Sequential([\n",
    "    tf.keras.layers.Embedding(max_vocab, 128),\n",
    "    tf.keras.layers.Bidirectional(tf.keras.layers.LSTM(64, return_sequences = True)),\n",
    "    tf.keras.layers.Bidirectional(tf.keras.layers.LSTM(16)),\n",
    "    tf.keras.layers.Dense(64, activation = \"relu\"),\n",
    "    tf.keras.layers.Dropout(0.4),\n",
    "    tf.keras.layers.Dense(1)\n",
    "])\n",
    "\n",
    "model.summary()"
   ]
  },
  {
   "cell_type": "code",
   "execution_count": 44,
   "id": "48ac57b9",
   "metadata": {},
   "outputs": [
    {
     "name": "stdout",
     "output_type": "stream",
     "text": [
      "Epoch 1/4\n",
      "390/390 [==============================] - 23s 44ms/step - loss: 0.4344 - accuracy: 0.7413 - val_loss: 0.1522 - val_accuracy: 0.9548\n",
      "Epoch 2/4\n",
      "390/390 [==============================] - 15s 40ms/step - loss: 0.1126 - accuracy: 0.9663 - val_loss: 0.1043 - val_accuracy: 0.9667\n",
      "Epoch 3/4\n",
      "390/390 [==============================] - 15s 40ms/step - loss: 0.0601 - accuracy: 0.9835 - val_loss: 0.0820 - val_accuracy: 0.9724\n",
      "Epoch 4/4\n",
      "390/390 [==============================] - 15s 39ms/step - loss: 0.0393 - accuracy: 0.9897 - val_loss: 0.0821 - val_accuracy: 0.9731\n"
     ]
    },
    {
     "data": {
      "text/plain": [
       "<tensorflow.python.keras.callbacks.History at 0x220e8e18d60>"
      ]
     },
     "execution_count": 44,
     "metadata": {},
     "output_type": "execute_result"
    }
   ],
   "source": [
    "# Training the model\n",
    "\n",
    "model.compile(loss = tf.keras.losses.BinaryCrossentropy(from_logits = True),\n",
    "             optimizer = tf.keras.optimizers.Adam(1e-4),\n",
    "             metrics = [\"accuracy\"])\n",
    "\n",
    "model.fit(x_train, y_train, epochs = 4, validation_split = 0.2, batch_size = 32, shuffle = True)"
   ]
  },
  {
   "cell_type": "code",
   "execution_count": 45,
   "id": "1be77a72",
   "metadata": {},
   "outputs": [
    {
     "name": "stdout",
     "output_type": "stream",
     "text": [
      "163/163 [==============================] - 3s 19ms/step - loss: 0.0801 - accuracy: 0.9710\n"
     ]
    },
    {
     "data": {
      "text/plain": [
       "[0.0800672322511673, 0.9709615111351013]"
      ]
     },
     "execution_count": 45,
     "metadata": {},
     "output_type": "execute_result"
    }
   ],
   "source": [
    "# Evaluating the test set\n",
    "\n",
    "model.evaluate(x_test, y_test)"
   ]
  },
  {
   "cell_type": "code",
   "execution_count": 46,
   "id": "56e2854e",
   "metadata": {},
   "outputs": [],
   "source": [
    "y_pred = model.predict(x_test)\n",
    "\n",
    "binary_prediction = []\n",
    "\n",
    "for i in y_pred:\n",
    "    if i>=0.5:\n",
    "        binary_prediction.append(1)\n",
    "    else:\n",
    "        binary_prediction.append(0)"
   ]
  },
  {
   "cell_type": "code",
   "execution_count": 47,
   "id": "7411cd13",
   "metadata": {},
   "outputs": [
    {
     "name": "stdout",
     "output_type": "stream",
     "text": [
      "Accuracy on testing set: 0.9709615384615384\n",
      "Precision on testing set: 0.9694980694980695\n",
      "Recall on testing set: 0.9721254355400697\n"
     ]
    }
   ],
   "source": [
    "# Checking model accuracy\n",
    "\n",
    "print('Accuracy on testing set:', accuracy_score(binary_prediction, y_test))\n",
    "print('Precision on testing set:', precision_score(binary_prediction, y_test))\n",
    "print('Recall on testing set:', recall_score(binary_prediction, y_test))"
   ]
  },
  {
   "cell_type": "code",
   "execution_count": 53,
   "id": "ff6b30c0",
   "metadata": {},
   "outputs": [
    {
     "data": {
      "image/png": "[encoded data removed]",
      "text/plain": [
       "<Figure size 360x360 with 2 Axes>"
      ]
     },
     "metadata": {
      "needs_background": "light"
     },
     "output_type": "display_data"
    }
   ],
   "source": [
    "# Creating a heatmap to visualize the confusion matrix\n",
    "\n",
    "matrix = confusion_matrix(binary_prediction, y_test, normalize='all')\n",
    "plt.figure(figsize=(5, 5))\n",
    "ax= plt.subplot()\n",
    "sns.heatmap(matrix, annot=True, ax = ax)\n",
    "\n",
    "# labels, title and ticks\n",
    "ax.set_xlabel('Predicted Labels', size=20)\n",
    "ax.set_ylabel('True Labels', size=20)\n",
    "ax.set_title('Confusion Matrix', size=20) \n",
    "ax.xaxis.set_ticklabels([0,1], size=15)\n",
    "ax.yaxis.set_ticklabels([0,1], size=15);"
   ]
  }
 ],
 "metadata": {
  "kernelspec": {
   "display_name": "Python 3 (ipykernel)",
   "language": "python",
   "name": "python3"
  },
  "language_info": {
   "codemirror_mode": {
    "name": "ipython",
    "version": 3
   },
   "file_extension": ".py",
   "mimetype": "text/x-python",
   "name": "python",
   "nbconvert_exporter": "python",
   "pygments_lexer": "ipython3",
   "version": "3.9.7"
  }
 },
 "nbformat": 4,
 "nbformat_minor": 5
}
